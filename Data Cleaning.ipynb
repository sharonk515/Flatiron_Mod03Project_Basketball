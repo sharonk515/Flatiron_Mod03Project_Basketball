{
 "cells": [
  {
   "cell_type": "code",
   "execution_count": 1,
   "metadata": {},
   "outputs": [],
   "source": [
    "import requests\n",
    "import json\n",
    "import pandas as pd\n",
    "import time"
   ]
  },
  {
   "cell_type": "code",
   "execution_count": 3,
   "metadata": {},
   "outputs": [],
   "source": [
    "def request_data()\n",
    "content = []\n",
    "for i in range(60):\n",
    "    page = f\"page[]={i}\"\n",
    "    per_page = f\"per_page[]=100\"\n",
    "    url = f\"https://www.balldontlie.io/api/v1/games?{page}&{per_page}\"\n",
    "    response = requests.get(url)\n",
    "    content.append(response.json())\n",
    "#     time.sleep(0.1)"
   ]
  },
  {
   "cell_type": "code",
   "execution_count": 4,
   "metadata": {
    "scrolled": true
   },
   "outputs": [],
   "source": [
    "rows = []\n",
    "for i in range(len(content)):\n",
    "    for n in range(len(content[i][\"data\"])):\n",
    "        rows.append(content[i][\"data\"][n])"
   ]
  },
  {
   "cell_type": "code",
   "execution_count": 13,
   "metadata": {
    "scrolled": false
   },
   "outputs": [
    {
     "data": {
      "text/html": [
       "<div>\n",
       "<style scoped>\n",
       "    .dataframe tbody tr th:only-of-type {\n",
       "        vertical-align: middle;\n",
       "    }\n",
       "\n",
       "    .dataframe tbody tr th {\n",
       "        vertical-align: top;\n",
       "    }\n",
       "\n",
       "    .dataframe thead th {\n",
       "        text-align: right;\n",
       "    }\n",
       "</style>\n",
       "<table border=\"1\" class=\"dataframe\">\n",
       "  <thead>\n",
       "    <tr style=\"text-align: right;\">\n",
       "      <th></th>\n",
       "      <th>date</th>\n",
       "      <th>home_team</th>\n",
       "      <th>home_team_score</th>\n",
       "      <th>id</th>\n",
       "      <th>period</th>\n",
       "      <th>postseason</th>\n",
       "      <th>season</th>\n",
       "      <th>status</th>\n",
       "      <th>time</th>\n",
       "      <th>visitor_team</th>\n",
       "      <th>visitor_team_score</th>\n",
       "    </tr>\n",
       "  </thead>\n",
       "  <tbody>\n",
       "    <tr>\n",
       "      <th>0</th>\n",
       "      <td>2019-01-30T00:00:00.000Z</td>\n",
       "      <td>{'id': 2, 'abbreviation': 'BOS', 'city': 'Bost...</td>\n",
       "      <td>126</td>\n",
       "      <td>47179</td>\n",
       "      <td>4</td>\n",
       "      <td>False</td>\n",
       "      <td>2018</td>\n",
       "      <td>Final</td>\n",
       "      <td></td>\n",
       "      <td>{'id': 4, 'abbreviation': 'CHA', 'city': 'Char...</td>\n",
       "      <td>94</td>\n",
       "    </tr>\n",
       "    <tr>\n",
       "      <th>1</th>\n",
       "      <td>2019-02-09T00:00:00.000Z</td>\n",
       "      <td>{'id': 2, 'abbreviation': 'BOS', 'city': 'Bost...</td>\n",
       "      <td>112</td>\n",
       "      <td>48751</td>\n",
       "      <td>4</td>\n",
       "      <td>False</td>\n",
       "      <td>2018</td>\n",
       "      <td>Final</td>\n",
       "      <td></td>\n",
       "      <td>{'id': 13, 'abbreviation': 'LAC', 'city': 'LA'...</td>\n",
       "      <td>123</td>\n",
       "    </tr>\n",
       "    <tr>\n",
       "      <th>2</th>\n",
       "      <td>2019-02-08T00:00:00.000Z</td>\n",
       "      <td>{'id': 23, 'abbreviation': 'PHI', 'city': 'Phi...</td>\n",
       "      <td>117</td>\n",
       "      <td>48739</td>\n",
       "      <td>4</td>\n",
       "      <td>False</td>\n",
       "      <td>2018</td>\n",
       "      <td>Final</td>\n",
       "      <td></td>\n",
       "      <td>{'id': 8, 'abbreviation': 'DEN', 'city': 'Denv...</td>\n",
       "      <td>110</td>\n",
       "    </tr>\n",
       "    <tr>\n",
       "      <th>3</th>\n",
       "      <td>2019-02-08T00:00:00.000Z</td>\n",
       "      <td>{'id': 30, 'abbreviation': 'WAS', 'city': 'Was...</td>\n",
       "      <td>119</td>\n",
       "      <td>48740</td>\n",
       "      <td>4</td>\n",
       "      <td>False</td>\n",
       "      <td>2018</td>\n",
       "      <td>Final</td>\n",
       "      <td></td>\n",
       "      <td>{'id': 6, 'abbreviation': 'CLE', 'city': 'Clev...</td>\n",
       "      <td>106</td>\n",
       "    </tr>\n",
       "    <tr>\n",
       "      <th>4</th>\n",
       "      <td>2019-02-08T00:00:00.000Z</td>\n",
       "      <td>{'id': 26, 'abbreviation': 'SAC', 'city': 'Sac...</td>\n",
       "      <td>102</td>\n",
       "      <td>48746</td>\n",
       "      <td>4</td>\n",
       "      <td>False</td>\n",
       "      <td>2018</td>\n",
       "      <td>Final</td>\n",
       "      <td></td>\n",
       "      <td>{'id': 16, 'abbreviation': 'MIA', 'city': 'Mia...</td>\n",
       "      <td>96</td>\n",
       "    </tr>\n",
       "  </tbody>\n",
       "</table>\n",
       "</div>"
      ],
      "text/plain": [
       "                       date  \\\n",
       "0  2019-01-30T00:00:00.000Z   \n",
       "1  2019-02-09T00:00:00.000Z   \n",
       "2  2019-02-08T00:00:00.000Z   \n",
       "3  2019-02-08T00:00:00.000Z   \n",
       "4  2019-02-08T00:00:00.000Z   \n",
       "\n",
       "                                           home_team  home_team_score     id  \\\n",
       "0  {'id': 2, 'abbreviation': 'BOS', 'city': 'Bost...              126  47179   \n",
       "1  {'id': 2, 'abbreviation': 'BOS', 'city': 'Bost...              112  48751   \n",
       "2  {'id': 23, 'abbreviation': 'PHI', 'city': 'Phi...              117  48739   \n",
       "3  {'id': 30, 'abbreviation': 'WAS', 'city': 'Was...              119  48740   \n",
       "4  {'id': 26, 'abbreviation': 'SAC', 'city': 'Sac...              102  48746   \n",
       "\n",
       "   period  postseason  season status   time  \\\n",
       "0       4       False    2018  Final          \n",
       "1       4       False    2018  Final          \n",
       "2       4       False    2018  Final          \n",
       "3       4       False    2018  Final          \n",
       "4       4       False    2018  Final          \n",
       "\n",
       "                                        visitor_team  visitor_team_score  \n",
       "0  {'id': 4, 'abbreviation': 'CHA', 'city': 'Char...                  94  \n",
       "1  {'id': 13, 'abbreviation': 'LAC', 'city': 'LA'...                 123  \n",
       "2  {'id': 8, 'abbreviation': 'DEN', 'city': 'Denv...                 110  \n",
       "3  {'id': 6, 'abbreviation': 'CLE', 'city': 'Clev...                 106  \n",
       "4  {'id': 16, 'abbreviation': 'MIA', 'city': 'Mia...                  96  "
      ]
     },
     "execution_count": 13,
     "metadata": {},
     "output_type": "execute_result"
    }
   ],
   "source": [
    "basketball = pd.DataFrame(rows)\n",
    "basketball.head()"
   ]
  },
  {
   "cell_type": "code",
   "execution_count": 14,
   "metadata": {},
   "outputs": [],
   "source": [
    "basketball = basketball[[\"home_team\",\n",
    "                         \"home_team_score\",\n",
    "                         \"season\",\n",
    "                         \"visitor_team\",\n",
    "                         \"visitor_team_score\"]]"
   ]
  },
  {
   "cell_type": "code",
   "execution_count": 15,
   "metadata": {
    "scrolled": true
   },
   "outputs": [],
   "source": [
    "basketball = pd.concat([basketball.drop([\"home_team\"], axis=1),\n",
    "                        basketball[\"home_team\"].apply(pd.Series)],\n",
    "                       axis=1)\n",
    "basketball.rename(columns={\"conference\":\"home_conference\",\n",
    "                          \"full_name\":\"home_name\"}, inplace=True)\n",
    "basketball = pd.concat([basketball.drop([\"visitor_team\"], axis=1),\n",
    "                        basketball[\"visitor_team\"].apply(pd.Series)],\n",
    "                       axis=1)\n",
    "basketball.rename(columns={\"conference\":\"visitor_conference\",\n",
    "                          \"full_name\": \"visitor_name\"}, inplace=True)"
   ]
  },
  {
   "cell_type": "code",
   "execution_count": 16,
   "metadata": {},
   "outputs": [],
   "source": [
    "basketball = basketball[[\"season\",\n",
    "                         \"home_conference\",\n",
    "                         \"home_name\",\n",
    "                         \"home_team_score\",\n",
    "                         \"visitor_conference\",\n",
    "                         \"visitor_name\",\n",
    "                         \"visitor_team_score\"]]"
   ]
  },
  {
   "cell_type": "code",
   "execution_count": 17,
   "metadata": {},
   "outputs": [],
   "source": [
    "basketball = basketball.loc[((basketball[\"home_conference\"] == \"East\")\n",
    "                             & (basketball[\"visitor_conference\"] == \"West\"))\n",
    "                            | (((basketball[\"home_conference\"] == \"West\")\n",
    "                             & (basketball[\"visitor_conference\"] == \"East\")))]"
   ]
  },
  {
   "cell_type": "code",
   "execution_count": 19,
   "metadata": {},
   "outputs": [
    {
     "data": {
      "text/html": [
       "<div>\n",
       "<style scoped>\n",
       "    .dataframe tbody tr th:only-of-type {\n",
       "        vertical-align: middle;\n",
       "    }\n",
       "\n",
       "    .dataframe tbody tr th {\n",
       "        vertical-align: top;\n",
       "    }\n",
       "\n",
       "    .dataframe thead th {\n",
       "        text-align: right;\n",
       "    }\n",
       "</style>\n",
       "<table border=\"1\" class=\"dataframe\">\n",
       "  <thead>\n",
       "    <tr style=\"text-align: right;\">\n",
       "      <th></th>\n",
       "      <th>season</th>\n",
       "      <th>home_conference</th>\n",
       "      <th>home_name</th>\n",
       "      <th>home_team_score</th>\n",
       "      <th>visitor_conference</th>\n",
       "      <th>visitor_name</th>\n",
       "      <th>visitor_team_score</th>\n",
       "      <th>win</th>\n",
       "    </tr>\n",
       "  </thead>\n",
       "  <tbody>\n",
       "    <tr>\n",
       "      <th>1</th>\n",
       "      <td>2018</td>\n",
       "      <td>East</td>\n",
       "      <td>Boston Celtics</td>\n",
       "      <td>112</td>\n",
       "      <td>West</td>\n",
       "      <td>LA Clippers</td>\n",
       "      <td>123</td>\n",
       "      <td>West</td>\n",
       "    </tr>\n",
       "    <tr>\n",
       "      <th>2</th>\n",
       "      <td>2018</td>\n",
       "      <td>East</td>\n",
       "      <td>Philadelphia 76ers</td>\n",
       "      <td>117</td>\n",
       "      <td>West</td>\n",
       "      <td>Denver Nuggets</td>\n",
       "      <td>110</td>\n",
       "      <td>East</td>\n",
       "    </tr>\n",
       "    <tr>\n",
       "      <th>4</th>\n",
       "      <td>2018</td>\n",
       "      <td>West</td>\n",
       "      <td>Sacramento Kings</td>\n",
       "      <td>102</td>\n",
       "      <td>East</td>\n",
       "      <td>Miami Heat</td>\n",
       "      <td>96</td>\n",
       "      <td>West</td>\n",
       "    </tr>\n",
       "    <tr>\n",
       "      <th>12</th>\n",
       "      <td>2018</td>\n",
       "      <td>East</td>\n",
       "      <td>Philadelphia 76ers</td>\n",
       "      <td>143</td>\n",
       "      <td>West</td>\n",
       "      <td>Los Angeles Lakers</td>\n",
       "      <td>120</td>\n",
       "      <td>East</td>\n",
       "    </tr>\n",
       "    <tr>\n",
       "      <th>16</th>\n",
       "      <td>2018</td>\n",
       "      <td>West</td>\n",
       "      <td>Golden State Warriors</td>\n",
       "      <td>120</td>\n",
       "      <td>East</td>\n",
       "      <td>Miami Heat</td>\n",
       "      <td>118</td>\n",
       "      <td>West</td>\n",
       "    </tr>\n",
       "  </tbody>\n",
       "</table>\n",
       "</div>"
      ],
      "text/plain": [
       "    season home_conference              home_name  home_team_score  \\\n",
       "1     2018            East         Boston Celtics              112   \n",
       "2     2018            East     Philadelphia 76ers              117   \n",
       "4     2018            West       Sacramento Kings              102   \n",
       "12    2018            East     Philadelphia 76ers              143   \n",
       "16    2018            West  Golden State Warriors              120   \n",
       "\n",
       "   visitor_conference        visitor_name  visitor_team_score   win  \n",
       "1                West         LA Clippers                 123  West  \n",
       "2                West      Denver Nuggets                 110  East  \n",
       "4                East          Miami Heat                  96  West  \n",
       "12               West  Los Angeles Lakers                 120  East  \n",
       "16               East          Miami Heat                 118  West  "
      ]
     },
     "execution_count": 19,
     "metadata": {},
     "output_type": "execute_result"
    }
   ],
   "source": [
    "basketball[\"win\"] = basketball.apply(lambda x: \"East\" if (\n",
    "                                                        ((x[\"home_conference\"] == \"East\")\n",
    "                                                        & (x[\"home_team_score\"] > x[\"visitor_team_score\"]))\n",
    "                                                        | ((x[\"visitor_conference\"] == \"East\")\n",
    "                                                         & (x[\"home_team_score\"] < x[\"visitor_team_score\"]))\n",
    "                                                        )\n",
    "                                     else (\"West\" if (\n",
    "                                                    ((x[\"home_conference\"] == \"West\")\n",
    "                                                    & (x[\"home_team_score\"] > x[\"visitor_team_score\"]))\n",
    "                                                    | ((x[\"visitor_conference\"] == \"West\")\n",
    "                                                    & (x[\"home_team_score\"] < x[\"visitor_team_score\"]))\n",
    "                                                    )\n",
    "                                        else \"draw\"), \n",
    "                                     axis=1)\n",
    "basketball.head()"
   ]
  },
  {
   "cell_type": "code",
   "execution_count": 20,
   "metadata": {},
   "outputs": [
    {
     "data": {
      "text/plain": [
       "West    180\n",
       "East    180\n",
       "Name: win, dtype: int64"
      ]
     },
     "execution_count": 20,
     "metadata": {},
     "output_type": "execute_result"
    }
   ],
   "source": [
    "basketball.win.value_counts()"
   ]
  },
  {
   "cell_type": "code",
   "execution_count": null,
   "metadata": {},
   "outputs": [],
   "source": []
  }
 ],
 "metadata": {
  "kernelspec": {
   "display_name": "Python 3",
   "language": "python",
   "name": "python3"
  },
  "language_info": {
   "codemirror_mode": {
    "name": "ipython",
    "version": 3
   },
   "file_extension": ".py",
   "mimetype": "text/x-python",
   "name": "python",
   "nbconvert_exporter": "python",
   "pygments_lexer": "ipython3",
   "version": "3.7.3"
  }
 },
 "nbformat": 4,
 "nbformat_minor": 2
}

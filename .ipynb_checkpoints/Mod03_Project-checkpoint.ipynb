{
 "cells": [
  {
   "cell_type": "code",
   "execution_count": 7,
   "metadata": {},
   "outputs": [],
   "source": [
    "import requests\n",
    "import json\n",
    "import pandas as pd\n",
    "import numpy as np\n",
    "\n",
    "import seaborn as sns\n",
    "import matplotlib.pyplot as plt\n",
    "%matplotlib inline\n",
    "\n",
    "import statsmodels.api as sm\n",
    "from scipy.stats import stats\n",
    "\n",
    "import time"
   ]
  },
  {
   "cell_type": "markdown",
   "metadata": {},
   "source": [
    "# Game Data"
   ]
  },
  {
   "cell_type": "markdown",
   "metadata": {},
   "source": [
    "## Creating function to request data "
   ]
  },
  {
   "cell_type": "code",
   "execution_count": 60,
   "metadata": {},
   "outputs": [],
   "source": [
    "def get_game_data(per_page=100, total_pages=None):\n",
    "\n",
    "    # Get the last page from the meta data\n",
    "    url = 'https://www.balldontlie.io/api/v1/games'\n",
    "    parameters = {'per_page': per_page, 'page': 1}\n",
    "    resp = requests.get(url, params = parameters).json()\n",
    "    total_pages = resp['meta']['total_pages'] if total_pages is None else total_pages\n",
    "    \n",
    "    # Initialize data frame \n",
    "    game_data = pd.DataFrame()\n",
    "    \n",
    "    start_time = time.time()\n",
    "    \n",
    "    # Loop to iterate through all pages\n",
    "    for page in range(1, total_pages+1):\n",
    "        \n",
    "        # Making the request\n",
    "        url = 'https://www.balldontlie.io/api/v1/games'\n",
    "        parameters = {'per_page': per_page, 'page': page}\n",
    "        resp = requests.get(url, params = parameters).json()\n",
    "\n",
    "        # Creating dataframe from the data key\n",
    "        data = pd.DataFrame.from_records(resp['data'])\n",
    "\n",
    "        # Creating columns out of the 'home_team' and 'visitor_team' column (these columns had dictionary values)\n",
    "        for k in data['home_team'][0].keys():\n",
    "            data['home_'+k] = data['home_team'].apply(lambda x: x[k])\n",
    "        for k in data['visitor_team'][0].keys():\n",
    "            data['visitor_'+k] = data['visitor_team'].apply(lambda x: x[k])\n",
    "        \n",
    "        # Column to display which page results came from\n",
    "        data['Page'] = page\n",
    "        \n",
    "        # Concatenate our initial datafram with dataframe from each loop\n",
    "        game_data = pd.concat([game_data, data])\n",
    "        \n",
    "        # Delay between requests\n",
    "        time.sleep(0.8)\n",
    "    \n",
    "    # Convert the date column to date (dt.tz_localize is used to remove toe T-Z string)\n",
    "    game_data['date'] = pd.to_datetime(game_data['date'], errors='coerce').dt.tz_localize(None)\n",
    "    \n",
    "    end_time = time.time()\n",
    "    print(end_time - start_time)\n",
    "    \n",
    "    return game_data"
   ]
  },
  {
   "cell_type": "code",
   "execution_count": 61,
   "metadata": {},
   "outputs": [
    {
     "name": "stdout",
     "output_type": "stream",
     "text": [
      "6.004288673400879\n"
     ]
    }
   ],
   "source": [
    "game_data = get_game_data(per_page=100, total_pages=5)\n",
    "#game_data = get_game_data()"
   ]
  },
  {
   "cell_type": "code",
   "execution_count": 62,
   "metadata": {},
   "outputs": [
    {
     "data": {
      "text/html": [
       "<div>\n",
       "<style scoped>\n",
       "    .dataframe tbody tr th:only-of-type {\n",
       "        vertical-align: middle;\n",
       "    }\n",
       "\n",
       "    .dataframe tbody tr th {\n",
       "        vertical-align: top;\n",
       "    }\n",
       "\n",
       "    .dataframe thead th {\n",
       "        text-align: right;\n",
       "    }\n",
       "</style>\n",
       "<table border=\"1\" class=\"dataframe\">\n",
       "  <thead>\n",
       "    <tr style=\"text-align: right;\">\n",
       "      <th></th>\n",
       "      <th>date</th>\n",
       "      <th>home_team</th>\n",
       "      <th>home_team_score</th>\n",
       "      <th>id</th>\n",
       "      <th>period</th>\n",
       "      <th>postseason</th>\n",
       "      <th>season</th>\n",
       "      <th>status</th>\n",
       "      <th>time</th>\n",
       "      <th>visitor_team</th>\n",
       "      <th>...</th>\n",
       "      <th>home_full_name</th>\n",
       "      <th>home_name</th>\n",
       "      <th>visitor_id</th>\n",
       "      <th>visitor_abbreviation</th>\n",
       "      <th>visitor_city</th>\n",
       "      <th>visitor_conference</th>\n",
       "      <th>visitor_division</th>\n",
       "      <th>visitor_full_name</th>\n",
       "      <th>visitor_name</th>\n",
       "      <th>Page</th>\n",
       "    </tr>\n",
       "  </thead>\n",
       "  <tbody>\n",
       "    <tr>\n",
       "      <th>0</th>\n",
       "      <td>2019-01-30</td>\n",
       "      <td>{'id': 2, 'abbreviation': 'BOS', 'city': 'Bost...</td>\n",
       "      <td>126</td>\n",
       "      <td>47179</td>\n",
       "      <td>4</td>\n",
       "      <td>False</td>\n",
       "      <td>2018</td>\n",
       "      <td>Final</td>\n",
       "      <td></td>\n",
       "      <td>{'id': 4, 'abbreviation': 'CHA', 'city': 'Char...</td>\n",
       "      <td>...</td>\n",
       "      <td>Boston Celtics</td>\n",
       "      <td>Celtics</td>\n",
       "      <td>4</td>\n",
       "      <td>CHA</td>\n",
       "      <td>Charlotte</td>\n",
       "      <td>East</td>\n",
       "      <td>Southeast</td>\n",
       "      <td>Charlotte Hornets</td>\n",
       "      <td>Hornets</td>\n",
       "      <td>1</td>\n",
       "    </tr>\n",
       "    <tr>\n",
       "      <th>1</th>\n",
       "      <td>2019-02-09</td>\n",
       "      <td>{'id': 2, 'abbreviation': 'BOS', 'city': 'Bost...</td>\n",
       "      <td>112</td>\n",
       "      <td>48751</td>\n",
       "      <td>4</td>\n",
       "      <td>False</td>\n",
       "      <td>2018</td>\n",
       "      <td>Final</td>\n",
       "      <td></td>\n",
       "      <td>{'id': 13, 'abbreviation': 'LAC', 'city': 'LA'...</td>\n",
       "      <td>...</td>\n",
       "      <td>Boston Celtics</td>\n",
       "      <td>Celtics</td>\n",
       "      <td>13</td>\n",
       "      <td>LAC</td>\n",
       "      <td>LA</td>\n",
       "      <td>West</td>\n",
       "      <td>Pacific</td>\n",
       "      <td>LA Clippers</td>\n",
       "      <td>Clippers</td>\n",
       "      <td>1</td>\n",
       "    </tr>\n",
       "    <tr>\n",
       "      <th>2</th>\n",
       "      <td>2019-02-08</td>\n",
       "      <td>{'id': 23, 'abbreviation': 'PHI', 'city': 'Phi...</td>\n",
       "      <td>117</td>\n",
       "      <td>48739</td>\n",
       "      <td>4</td>\n",
       "      <td>False</td>\n",
       "      <td>2018</td>\n",
       "      <td>Final</td>\n",
       "      <td></td>\n",
       "      <td>{'id': 8, 'abbreviation': 'DEN', 'city': 'Denv...</td>\n",
       "      <td>...</td>\n",
       "      <td>Philadelphia 76ers</td>\n",
       "      <td>76ers</td>\n",
       "      <td>8</td>\n",
       "      <td>DEN</td>\n",
       "      <td>Denver</td>\n",
       "      <td>West</td>\n",
       "      <td>Northwest</td>\n",
       "      <td>Denver Nuggets</td>\n",
       "      <td>Nuggets</td>\n",
       "      <td>1</td>\n",
       "    </tr>\n",
       "    <tr>\n",
       "      <th>3</th>\n",
       "      <td>2019-02-08</td>\n",
       "      <td>{'id': 30, 'abbreviation': 'WAS', 'city': 'Was...</td>\n",
       "      <td>119</td>\n",
       "      <td>48740</td>\n",
       "      <td>4</td>\n",
       "      <td>False</td>\n",
       "      <td>2018</td>\n",
       "      <td>Final</td>\n",
       "      <td></td>\n",
       "      <td>{'id': 6, 'abbreviation': 'CLE', 'city': 'Clev...</td>\n",
       "      <td>...</td>\n",
       "      <td>Washington Wizards</td>\n",
       "      <td>Wizards</td>\n",
       "      <td>6</td>\n",
       "      <td>CLE</td>\n",
       "      <td>Cleveland</td>\n",
       "      <td>East</td>\n",
       "      <td>Central</td>\n",
       "      <td>Cleveland Cavaliers</td>\n",
       "      <td>Cavaliers</td>\n",
       "      <td>1</td>\n",
       "    </tr>\n",
       "    <tr>\n",
       "      <th>4</th>\n",
       "      <td>2019-02-08</td>\n",
       "      <td>{'id': 26, 'abbreviation': 'SAC', 'city': 'Sac...</td>\n",
       "      <td>102</td>\n",
       "      <td>48746</td>\n",
       "      <td>4</td>\n",
       "      <td>False</td>\n",
       "      <td>2018</td>\n",
       "      <td>Final</td>\n",
       "      <td></td>\n",
       "      <td>{'id': 16, 'abbreviation': 'MIA', 'city': 'Mia...</td>\n",
       "      <td>...</td>\n",
       "      <td>Sacramento Kings</td>\n",
       "      <td>Kings</td>\n",
       "      <td>16</td>\n",
       "      <td>MIA</td>\n",
       "      <td>Miami</td>\n",
       "      <td>East</td>\n",
       "      <td>Southeast</td>\n",
       "      <td>Miami Heat</td>\n",
       "      <td>Heat</td>\n",
       "      <td>1</td>\n",
       "    </tr>\n",
       "  </tbody>\n",
       "</table>\n",
       "<p>5 rows × 26 columns</p>\n",
       "</div>"
      ],
      "text/plain": [
       "        date                                          home_team  \\\n",
       "0 2019-01-30  {'id': 2, 'abbreviation': 'BOS', 'city': 'Bost...   \n",
       "1 2019-02-09  {'id': 2, 'abbreviation': 'BOS', 'city': 'Bost...   \n",
       "2 2019-02-08  {'id': 23, 'abbreviation': 'PHI', 'city': 'Phi...   \n",
       "3 2019-02-08  {'id': 30, 'abbreviation': 'WAS', 'city': 'Was...   \n",
       "4 2019-02-08  {'id': 26, 'abbreviation': 'SAC', 'city': 'Sac...   \n",
       "\n",
       "   home_team_score     id  period  postseason  season status   time  \\\n",
       "0              126  47179       4       False    2018  Final          \n",
       "1              112  48751       4       False    2018  Final          \n",
       "2              117  48739       4       False    2018  Final          \n",
       "3              119  48740       4       False    2018  Final          \n",
       "4              102  48746       4       False    2018  Final          \n",
       "\n",
       "                                        visitor_team  ...      home_full_name  \\\n",
       "0  {'id': 4, 'abbreviation': 'CHA', 'city': 'Char...  ...      Boston Celtics   \n",
       "1  {'id': 13, 'abbreviation': 'LAC', 'city': 'LA'...  ...      Boston Celtics   \n",
       "2  {'id': 8, 'abbreviation': 'DEN', 'city': 'Denv...  ...  Philadelphia 76ers   \n",
       "3  {'id': 6, 'abbreviation': 'CLE', 'city': 'Clev...  ...  Washington Wizards   \n",
       "4  {'id': 16, 'abbreviation': 'MIA', 'city': 'Mia...  ...    Sacramento Kings   \n",
       "\n",
       "   home_name visitor_id visitor_abbreviation visitor_city visitor_conference  \\\n",
       "0    Celtics          4                  CHA    Charlotte               East   \n",
       "1    Celtics         13                  LAC           LA               West   \n",
       "2      76ers          8                  DEN       Denver               West   \n",
       "3    Wizards          6                  CLE    Cleveland               East   \n",
       "4      Kings         16                  MIA        Miami               East   \n",
       "\n",
       "  visitor_division    visitor_full_name  visitor_name Page  \n",
       "0        Southeast    Charlotte Hornets       Hornets    1  \n",
       "1          Pacific          LA Clippers      Clippers    1  \n",
       "2        Northwest       Denver Nuggets       Nuggets    1  \n",
       "3          Central  Cleveland Cavaliers     Cavaliers    1  \n",
       "4        Southeast           Miami Heat          Heat    1  \n",
       "\n",
       "[5 rows x 26 columns]"
      ]
     },
     "execution_count": 62,
     "metadata": {},
     "output_type": "execute_result"
    }
   ],
   "source": [
    "game_data.head()"
   ]
  },
  {
   "cell_type": "markdown",
   "metadata": {},
   "source": [
    "## Creating function to shape dataframe"
   ]
  },
  {
   "cell_type": "markdown",
   "metadata": {},
   "source": [
    "id, East Score, West Score"
   ]
  },
  {
   "cell_type": "code",
   "execution_count": 64,
   "metadata": {},
   "outputs": [
    {
     "name": "stdout",
     "output_type": "stream",
     "text": [
      "<class 'pandas.core.frame.DataFrame'>\n",
      "Int64Index: 500 entries, 0 to 99\n",
      "Data columns (total 26 columns):\n",
      "date                    500 non-null datetime64[ns]\n",
      "home_team               500 non-null object\n",
      "home_team_score         500 non-null int64\n",
      "id                      500 non-null int64\n",
      "period                  500 non-null int64\n",
      "postseason              500 non-null bool\n",
      "season                  500 non-null int64\n",
      "status                  500 non-null object\n",
      "time                    500 non-null object\n",
      "visitor_team            500 non-null object\n",
      "visitor_team_score      500 non-null int64\n",
      "home_id                 500 non-null int64\n",
      "home_abbreviation       500 non-null object\n",
      "home_city               500 non-null object\n",
      "home_conference         500 non-null object\n",
      "home_division           500 non-null object\n",
      "home_full_name          500 non-null object\n",
      "home_name               500 non-null object\n",
      "visitor_id              500 non-null int64\n",
      "visitor_abbreviation    500 non-null object\n",
      "visitor_city            500 non-null object\n",
      "visitor_conference      500 non-null object\n",
      "visitor_division        500 non-null object\n",
      "visitor_full_name       500 non-null object\n",
      "visitor_name            500 non-null object\n",
      "Page                    500 non-null int64\n",
      "dtypes: bool(1), datetime64[ns](1), int64(8), object(16)\n",
      "memory usage: 102.1+ KB\n"
     ]
    }
   ],
   "source": [
    "game_data.info()"
   ]
  },
  {
   "cell_type": "code",
   "execution_count": 65,
   "metadata": {},
   "outputs": [],
   "source": [
    "def reshape_data(data):\n",
    "    \n",
    "    data['East_Score'] = np.where(data['home_conference']==\"East\", data['home_team_score'], data['visitor_team_score'])\n",
    "    data['West_Score'] = np.where(data['home_conference']==\"West\", data['home_team_score'], data['visitor_team_score'])\n",
    "    \n",
    "    data = data[['id', 'East_Score', 'West_Score']]\n",
    "    return data"
   ]
  },
  {
   "cell_type": "code",
   "execution_count": 66,
   "metadata": {},
   "outputs": [],
   "source": [
    "game_data_reshaped = reshape_data(game_data)"
   ]
  },
  {
   "cell_type": "code",
   "execution_count": 69,
   "metadata": {},
   "outputs": [
    {
     "data": {
      "text/plain": [
       "<matplotlib.axes._subplots.AxesSubplot at 0x28f8dbed240>"
      ]
     },
     "execution_count": 69,
     "metadata": {},
     "output_type": "execute_result"
    },
    {
     "data": {
      "image/png": "[encoded data removed]",
      "text/plain": [
       "<Figure size 432x288 with 1 Axes>"
      ]
     },
     "metadata": {
      "needs_background": "light"
     },
     "output_type": "display_data"
    }
   ],
   "source": [
    "sns.scatterplot(data=game_data_reshaped, x='East_Score', y='West_Score')"
   ]
  },
  {
   "cell_type": "markdown",
   "metadata": {},
   "source": [
    "## Create regression function"
   ]
  },
  {
   "cell_type": "code",
   "execution_count": 68,
   "metadata": {},
   "outputs": [
    {
     "name": "stdout",
     "output_type": "stream",
     "text": [
      "                            OLS Regression Results                            \n",
      "==============================================================================\n",
      "Dep. Variable:             West_Score   R-squared:                       0.110\n",
      "Model:                            OLS   Adj. R-squared:                  0.108\n",
      "Method:                 Least Squares   F-statistic:                     61.53\n",
      "Date:                Mon, 07 Oct 2019   Prob (F-statistic):           2.67e-14\n",
      "Time:                        11:02:51   Log-Likelihood:                -1954.8\n",
      "No. Observations:                 500   AIC:                             3914.\n",
      "Df Residuals:                     498   BIC:                             3922.\n",
      "Df Model:                           1                                         \n",
      "Covariance Type:            nonrobust                                         \n",
      "==============================================================================\n",
      "                 coef    std err          t      P>|t|      [0.025      0.975]\n",
      "------------------------------------------------------------------------------\n",
      "const         73.3464      4.980     14.728      0.000      63.562      83.131\n",
      "East_Score     0.3462      0.044      7.844      0.000       0.259       0.433\n",
      "==============================================================================\n",
      "Omnibus:                        2.364   Durbin-Watson:                   1.914\n",
      "Prob(Omnibus):                  0.307   Jarque-Bera (JB):                2.255\n",
      "Skew:                          -0.089   Prob(JB):                        0.324\n",
      "Kurtosis:                       3.276   Cond. No.                     1.04e+03\n",
      "==============================================================================\n",
      "\n",
      "Warnings:\n",
      "[1] Standard Errors assume that the covariance matrix of the errors is correctly specified.\n",
      "[2] The condition number is large, 1.04e+03. This might indicate that there are\n",
      "strong multicollinearity or other numerical problems.\n"
     ]
    },
    {
     "name": "stderr",
     "output_type": "stream",
     "text": [
      "C:\\Users\\anees\\AppData\\Local\\Continuum\\anaconda3\\lib\\site-packages\\numpy\\core\\fromnumeric.py:2389: FutureWarning: Method .ptp is deprecated and will be removed in a future version. Use numpy.ptp instead.\n",
      "  return ptp(axis=axis, out=out, **kwargs)\n"
     ]
    }
   ],
   "source": [
    "X = game_data_reshaped['East_Score']\n",
    "y = game_data_reshaped['West_Score']\n",
    "X = sm.add_constant(X)\n",
    "mod = sm.OLS(y, X, hasconst= True)\n",
    "res = mod.fit()\n",
    "print(res.summary())"
   ]
  },
  {
   "cell_type": "code",
   "execution_count": null,
   "metadata": {},
   "outputs": [],
   "source": []
  }
 ],
 "metadata": {
  "kernelspec": {
   "display_name": "Python 3",
   "language": "python",
   "name": "python3"
  },
  "language_info": {
   "codemirror_mode": {
    "name": "ipython",
    "version": 3
   },
   "file_extension": ".py",
   "mimetype": "text/x-python",
   "name": "python",
   "nbconvert_exporter": "python",
   "pygments_lexer": "ipython3",
   "version": "3.7.3"
  }
 },
 "nbformat": 4,
 "nbformat_minor": 2
}

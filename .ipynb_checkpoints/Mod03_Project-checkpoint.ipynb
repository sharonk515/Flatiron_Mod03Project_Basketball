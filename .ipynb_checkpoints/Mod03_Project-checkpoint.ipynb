{
 "cells": [
  {
   "cell_type": "code",
   "execution_count": 1,
   "metadata": {},
   "outputs": [],
   "source": [
    "import requests\n",
    "import json\n",
    "import pandas as pd\n",
    "import numpy as np\n",
    "import math\n",
    "\n",
    "import seaborn as sns\n",
    "import matplotlib.pyplot as plt\n",
    "%matplotlib inline\n",
    "\n",
    "import statsmodels.api as sm\n",
    "from scipy.stats import stats\n",
    "\n",
    "import time"
   ]
  },
  {
   "cell_type": "markdown",
   "metadata": {},
   "source": [
    "# Player Data"
   ]
  },
  {
   "cell_type": "markdown",
   "metadata": {},
   "source": [
    "## Creating function to get player data"
   ]
  },
  {
   "cell_type": "code",
   "execution_count": 20,
   "metadata": {},
   "outputs": [],
   "source": [
    "def get_player_data(per_page=100, total_pages=None):\n",
    "    \n",
    "    # Get the last page from the meta data\n",
    "    url = 'https://www.balldontlie.io/api/v1/players'\n",
    "    parameters = {'per_page': per_page, 'page': 1}\n",
    "    resp = requests.get(url, params = parameters).json()\n",
    "    total_pages = resp['meta']['total_pages'] if total_pages is None else total_pages\n",
    "    \n",
    "    # Initialize data frame \n",
    "    player_data = pd.DataFrame()\n",
    "    \n",
    "    start_time = time.time()\n",
    "    \n",
    "    # Loop to iterate through all pages\n",
    "    for page in range(1, total_pages+1):\n",
    "        \n",
    "        # Making the request\n",
    "        url = 'https://www.balldontlie.io/api/v1/players'\n",
    "        parameters = {'per_page': per_page, 'page': page}\n",
    "        resp = requests.get(url, params = parameters).json()\n",
    "\n",
    "        # Creating dataframe from the data key\n",
    "        data = pd.DataFrame.from_records(resp['data'])\n",
    "        \n",
    "        # Combine name\n",
    "        data['full_name'] = data['first_name'] + \" \" + data['last_name']\n",
    "        \n",
    "        # Create total height column\n",
    "        data['height_inches_total'] = data['height_feet']*12 + data['height_inches']\n",
    "\n",
    "        # Creating columns out of the 'home_team' and 'visitor_team' column (these columns had dictionary values)\n",
    "        for k in data['team'][0].keys():\n",
    "            data['team_'+k] = data['team'].apply(lambda x: x[k])\n",
    "        \n",
    "        # Column to display which page results came from\n",
    "        data['Page'] = page\n",
    "        \n",
    "        # Concatenate our initial datafram with dataframe from each loop\n",
    "        player_data = pd.concat([player_data, data])\n",
    "        \n",
    "        # Delay between requests\n",
    "        time.sleep(0.5)\n",
    "    \n",
    "    end_time = time.time()\n",
    "    print(end_time - start_time)\n",
    "    \n",
    "    return player_data"
   ]
  },
  {
   "cell_type": "code",
   "execution_count": 21,
   "metadata": {},
   "outputs": [
    {
     "name": "stdout",
     "output_type": "stream",
     "text": [
      "0.664222002029419\n"
     ]
    }
   ],
   "source": [
    "player_data = get_player_data(1,1)"
   ]
  },
  {
   "cell_type": "code",
   "execution_count": 22,
   "metadata": {},
   "outputs": [
    {
     "data": {
      "text/html": [
       "<div>\n",
       "<style scoped>\n",
       "    .dataframe tbody tr th:only-of-type {\n",
       "        vertical-align: middle;\n",
       "    }\n",
       "\n",
       "    .dataframe tbody tr th {\n",
       "        vertical-align: top;\n",
       "    }\n",
       "\n",
       "    .dataframe thead th {\n",
       "        text-align: right;\n",
       "    }\n",
       "</style>\n",
       "<table border=\"1\" class=\"dataframe\">\n",
       "  <thead>\n",
       "    <tr style=\"text-align: right;\">\n",
       "      <th></th>\n",
       "      <th>first_name</th>\n",
       "      <th>height_feet</th>\n",
       "      <th>height_inches</th>\n",
       "      <th>id</th>\n",
       "      <th>last_name</th>\n",
       "      <th>position</th>\n",
       "      <th>team</th>\n",
       "      <th>weight_pounds</th>\n",
       "      <th>full_name</th>\n",
       "      <th>height_inches_total</th>\n",
       "      <th>team_id</th>\n",
       "      <th>team_abbreviation</th>\n",
       "      <th>team_city</th>\n",
       "      <th>team_conference</th>\n",
       "      <th>team_division</th>\n",
       "      <th>team_full_name</th>\n",
       "      <th>team_name</th>\n",
       "      <th>Page</th>\n",
       "    </tr>\n",
       "  </thead>\n",
       "  <tbody>\n",
       "    <tr>\n",
       "      <th>0</th>\n",
       "      <td>DeVaughn</td>\n",
       "      <td>None</td>\n",
       "      <td>None</td>\n",
       "      <td>5</td>\n",
       "      <td>Akoon-Purcell</td>\n",
       "      <td>G-F</td>\n",
       "      <td>{'id': 8, 'abbreviation': 'DEN', 'city': 'Denv...</td>\n",
       "      <td>None</td>\n",
       "      <td>DeVaughn Akoon-Purcell</td>\n",
       "      <td>NaN</td>\n",
       "      <td>8</td>\n",
       "      <td>DEN</td>\n",
       "      <td>Denver</td>\n",
       "      <td>West</td>\n",
       "      <td>Northwest</td>\n",
       "      <td>Denver Nuggets</td>\n",
       "      <td>Nuggets</td>\n",
       "      <td>1</td>\n",
       "    </tr>\n",
       "  </tbody>\n",
       "</table>\n",
       "</div>"
      ],
      "text/plain": [
       "  first_name height_feet height_inches  id      last_name position  \\\n",
       "0   DeVaughn        None          None   5  Akoon-Purcell      G-F   \n",
       "\n",
       "                                                team weight_pounds  \\\n",
       "0  {'id': 8, 'abbreviation': 'DEN', 'city': 'Denv...          None   \n",
       "\n",
       "                full_name height_inches_total  team_id team_abbreviation  \\\n",
       "0  DeVaughn Akoon-Purcell                 NaN        8               DEN   \n",
       "\n",
       "  team_city team_conference team_division  team_full_name team_name  Page  \n",
       "0    Denver            West     Northwest  Denver Nuggets   Nuggets     1  "
      ]
     },
     "execution_count": 22,
     "metadata": {},
     "output_type": "execute_result"
    }
   ],
   "source": [
    "player_data.head()"
   ]
  },
  {
   "cell_type": "code",
   "execution_count": 19,
   "metadata": {},
   "outputs": [
    {
     "data": {
      "text/html": [
       "<div>\n",
       "<style scoped>\n",
       "    .dataframe tbody tr th:only-of-type {\n",
       "        vertical-align: middle;\n",
       "    }\n",
       "\n",
       "    .dataframe tbody tr th {\n",
       "        vertical-align: top;\n",
       "    }\n",
       "\n",
       "    .dataframe thead th {\n",
       "        text-align: right;\n",
       "    }\n",
       "</style>\n",
       "<table border=\"1\" class=\"dataframe\">\n",
       "  <thead>\n",
       "    <tr style=\"text-align: right;\">\n",
       "      <th></th>\n",
       "      <th>first_name</th>\n",
       "      <th>height_feet</th>\n",
       "      <th>height_inches</th>\n",
       "      <th>id</th>\n",
       "      <th>last_name</th>\n",
       "      <th>position</th>\n",
       "      <th>team</th>\n",
       "      <th>weight_pounds</th>\n",
       "      <th>full_name</th>\n",
       "      <th>team_id</th>\n",
       "      <th>team_abbreviation</th>\n",
       "      <th>team_city</th>\n",
       "      <th>team_conference</th>\n",
       "      <th>team_division</th>\n",
       "      <th>team_full_name</th>\n",
       "      <th>team_name</th>\n",
       "      <th>Page</th>\n",
       "    </tr>\n",
       "  </thead>\n",
       "  <tbody>\n",
       "    <tr>\n",
       "      <th>50</th>\n",
       "      <td>LeBron</td>\n",
       "      <td>6</td>\n",
       "      <td>8</td>\n",
       "      <td>237</td>\n",
       "      <td>James</td>\n",
       "      <td>F</td>\n",
       "      <td>{'id': 14, 'abbreviation': 'LAL', 'city': 'Los...</td>\n",
       "      <td>250</td>\n",
       "      <td>LeBron James</td>\n",
       "      <td>14</td>\n",
       "      <td>LAL</td>\n",
       "      <td>Los Angeles</td>\n",
       "      <td>West</td>\n",
       "      <td>Pacific</td>\n",
       "      <td>Los Angeles Lakers</td>\n",
       "      <td>Lakers</td>\n",
       "      <td>29</td>\n",
       "    </tr>\n",
       "  </tbody>\n",
       "</table>\n",
       "</div>"
      ],
      "text/plain": [
       "   first_name height_feet height_inches   id last_name position  \\\n",
       "50     LeBron           6             8  237     James        F   \n",
       "\n",
       "                                                 team weight_pounds  \\\n",
       "50  {'id': 14, 'abbreviation': 'LAL', 'city': 'Los...           250   \n",
       "\n",
       "       full_name  team_id team_abbreviation    team_city team_conference  \\\n",
       "50  LeBron James       14               LAL  Los Angeles            West   \n",
       "\n",
       "   team_division      team_full_name team_name  Page  \n",
       "50       Pacific  Los Angeles Lakers    Lakers    29  "
      ]
     },
     "execution_count": 19,
     "metadata": {},
     "output_type": "execute_result"
    }
   ],
   "source": [
    "player_data.loc[player_data['first_name']==\"LeBron\"]"
   ]
  },
  {
   "cell_type": "markdown",
   "metadata": {},
   "source": [
    "# Games Data"
   ]
  },
  {
   "cell_type": "markdown",
   "metadata": {},
   "source": [
    "## Creating function to request data "
   ]
  },
  {
   "cell_type": "code",
   "execution_count": 187,
   "metadata": {},
   "outputs": [],
   "source": [
    "def get_games_data(page=1, per_page=100, total_pages=None):\n",
    "    \n",
    "    # Get number of pages\n",
    "    url = 'https://www.balldontlie.io/api/v1/games'\n",
    "    parameters = {'per_page': per_page, 'page': page}\n",
    "    \n",
    "    \n",
    "    resp = requests.get(url, params=parameters).json()\n",
    "    total_pages = min(x for x in [resp['meta']['total_pages'], total_pages] if x is not None)\n",
    "    \n",
    "    # Initialize data frame\n",
    "    games_data = pd.DataFrame()\n",
    "        \n",
    "    for page_num in range(page, total_pages+1):\n",
    "                \n",
    "        # Make request\n",
    "        parameters = {'page': page_num, 'per_page': per_page}\n",
    "        \n",
    "        resp = requests.get(url, params=parameters).json()\n",
    "        \n",
    "        # Create dataframe from json data key\n",
    "        data = pd.DataFrame.from_records(resp['data'])    \n",
    "        \n",
    "        # Format date column to date column\n",
    "        data['date'] = pd.to_datetime(data['date'], yearfirst=True, errors='coerce').dt.tz_localize(None)\n",
    "        \n",
    "        # Creating columns out of the dictionary-type columns\n",
    "        for col in data.columns:\n",
    "            if type(data[col][0]) == dict:\n",
    "                for k in data[col][0].keys():\n",
    "                    data[col+\"_\"+k] = data[col].apply(lambda x: x[k])\n",
    "                    \n",
    "        # Filter data to only show East vs West games\n",
    "        data = data.loc[((data['home_team_conference']==\"East\") & (data['visitor_team_conference']==\"West\")) \n",
    "                        | ((data['home_team_conference']==\"West\") & (data['visitor_team_conference']==\"East\"))]\n",
    "        \n",
    "        # Create a page column\n",
    "        data['page'] = page_num\n",
    "        \n",
    "        # Concat data frames\n",
    "        games_data = pd.concat([games_data, data])\n",
    "        \n",
    "        # Delay next request\n",
    "        time.sleep(.8)\n",
    "    \n",
    "    \n",
    "    return games_data\n",
    "    "
   ]
  },
  {
   "cell_type": "code",
   "execution_count": 188,
   "metadata": {},
   "outputs": [],
   "source": [
    "games_data = get_games_data()"
   ]
  },
  {
   "cell_type": "code",
   "execution_count": 189,
   "metadata": {},
   "outputs": [],
   "source": [
    "games_data.to_csv('games_data.csv')"
   ]
  },
  {
   "cell_type": "markdown",
   "metadata": {},
   "source": [
    "## Creating function to shape dataframe"
   ]
  },
  {
   "cell_type": "markdown",
   "metadata": {},
   "source": [
    "id, East Score, West Score"
   ]
  },
  {
   "cell_type": "code",
   "execution_count": 190,
   "metadata": {},
   "outputs": [],
   "source": [
    "def games_data_reshaped(data):\n",
    "    \n",
    "    data['east_team'] = np.where(data['home_team_conference']==\"East\", data['home_team_full_name'], data['visitor_team_full_name'])\n",
    "    data['east_score'] = np.where(data['home_team_conference']==\"East\", data['home_team_score'], data['visitor_team_score'])\n",
    "    \n",
    "    data['west_team'] = np.where(data['home_team_conference']==\"West\", data['home_team_full_name'], data['visitor_team_full_name'])\n",
    "    data['west_score'] = np.where(data['home_team_conference']==\"West\", data['home_team_score'], data['visitor_team_score'])\n",
    "    \n",
    "    data['west_minus_east'] = data['west_score'] - data['east_score']\n",
    "    \n",
    "    data = data[['id', 'date', 'season', 'east_team', 'east_score', 'west_team', 'west_score', 'west_minus_east']]\n",
    "    return data"
   ]
  },
  {
   "cell_type": "code",
   "execution_count": 191,
   "metadata": {},
   "outputs": [],
   "source": [
    "games_data_reshaped = games_data_reshaped(games_data)"
   ]
  },
  {
   "cell_type": "code",
   "execution_count": 192,
   "metadata": {},
   "outputs": [
    {
     "data": {
      "text/html": [
       "<div>\n",
       "<style scoped>\n",
       "    .dataframe tbody tr th:only-of-type {\n",
       "        vertical-align: middle;\n",
       "    }\n",
       "\n",
       "    .dataframe tbody tr th {\n",
       "        vertical-align: top;\n",
       "    }\n",
       "\n",
       "    .dataframe thead th {\n",
       "        text-align: right;\n",
       "    }\n",
       "</style>\n",
       "<table border=\"1\" class=\"dataframe\">\n",
       "  <thead>\n",
       "    <tr style=\"text-align: right;\">\n",
       "      <th></th>\n",
       "      <th>id</th>\n",
       "      <th>date</th>\n",
       "      <th>season</th>\n",
       "      <th>east_team</th>\n",
       "      <th>east_score</th>\n",
       "      <th>west_team</th>\n",
       "      <th>west_score</th>\n",
       "      <th>west_minus_east</th>\n",
       "    </tr>\n",
       "  </thead>\n",
       "  <tbody>\n",
       "    <tr>\n",
       "      <th>1</th>\n",
       "      <td>48751</td>\n",
       "      <td>2019-02-09</td>\n",
       "      <td>2018</td>\n",
       "      <td>Boston Celtics</td>\n",
       "      <td>112</td>\n",
       "      <td>LA Clippers</td>\n",
       "      <td>123</td>\n",
       "      <td>11</td>\n",
       "    </tr>\n",
       "    <tr>\n",
       "      <th>2</th>\n",
       "      <td>48739</td>\n",
       "      <td>2019-02-08</td>\n",
       "      <td>2018</td>\n",
       "      <td>Philadelphia 76ers</td>\n",
       "      <td>117</td>\n",
       "      <td>Denver Nuggets</td>\n",
       "      <td>110</td>\n",
       "      <td>-7</td>\n",
       "    </tr>\n",
       "    <tr>\n",
       "      <th>4</th>\n",
       "      <td>48746</td>\n",
       "      <td>2019-02-08</td>\n",
       "      <td>2018</td>\n",
       "      <td>Miami Heat</td>\n",
       "      <td>96</td>\n",
       "      <td>Sacramento Kings</td>\n",
       "      <td>102</td>\n",
       "      <td>6</td>\n",
       "    </tr>\n",
       "    <tr>\n",
       "      <th>12</th>\n",
       "      <td>48760</td>\n",
       "      <td>2019-02-10</td>\n",
       "      <td>2018</td>\n",
       "      <td>Philadelphia 76ers</td>\n",
       "      <td>143</td>\n",
       "      <td>Los Angeles Lakers</td>\n",
       "      <td>120</td>\n",
       "      <td>-23</td>\n",
       "    </tr>\n",
       "    <tr>\n",
       "      <th>16</th>\n",
       "      <td>48759</td>\n",
       "      <td>2019-02-10</td>\n",
       "      <td>2018</td>\n",
       "      <td>Miami Heat</td>\n",
       "      <td>118</td>\n",
       "      <td>Golden State Warriors</td>\n",
       "      <td>120</td>\n",
       "      <td>2</td>\n",
       "    </tr>\n",
       "  </tbody>\n",
       "</table>\n",
       "</div>"
      ],
      "text/plain": [
       "       id       date  season           east_team  east_score  \\\n",
       "1   48751 2019-02-09    2018      Boston Celtics         112   \n",
       "2   48739 2019-02-08    2018  Philadelphia 76ers         117   \n",
       "4   48746 2019-02-08    2018          Miami Heat          96   \n",
       "12  48760 2019-02-10    2018  Philadelphia 76ers         143   \n",
       "16  48759 2019-02-10    2018          Miami Heat         118   \n",
       "\n",
       "                west_team  west_score  west_minus_east  \n",
       "1             LA Clippers         123               11  \n",
       "2          Denver Nuggets         110               -7  \n",
       "4        Sacramento Kings         102                6  \n",
       "12     Los Angeles Lakers         120              -23  \n",
       "16  Golden State Warriors         120                2  "
      ]
     },
     "execution_count": 192,
     "metadata": {},
     "output_type": "execute_result"
    }
   ],
   "source": [
    "games_data_reshaped.head()"
   ]
  },
  {
   "cell_type": "code",
   "execution_count": 193,
   "metadata": {},
   "outputs": [
    {
     "data": {
      "text/plain": [
       "<matplotlib.axes._subplots.AxesSubplot at 0x21582ae55c0>"
      ]
     },
     "execution_count": 193,
     "metadata": {},
     "output_type": "execute_result"
    },
    {
     "data": {
      "image/png": "[encoded data removed]",
      "text/plain": [
       "<Figure size 432x288 with 1 Axes>"
      ]
     },
     "metadata": {
      "needs_background": "light"
     },
     "output_type": "display_data"
    }
   ],
   "source": [
    "sns.distplot(games_data_reshaped['west_minus_east'])"
   ]
  },
  {
   "cell_type": "code",
   "execution_count": 198,
   "metadata": {},
   "outputs": [
    {
     "data": {
      "text/plain": [
       "<matplotlib.axes._subplots.AxesSubplot at 0x21584d7ab00>"
      ]
     },
     "execution_count": 198,
     "metadata": {},
     "output_type": "execute_result"
    },
    {
     "data": {
      "image/png": "[encoded data removed]",
      "text/plain": [
       "<Figure size 432x288 with 1 Axes>"
      ]
     },
     "metadata": {
      "needs_background": "light"
     },
     "output_type": "display_data"
    }
   ],
   "source": [
    "sns.scatterplot(data=games_data_reshaped, x='east_score', y='west_score')"
   ]
  },
  {
   "cell_type": "code",
   "execution_count": 199,
   "metadata": {},
   "outputs": [
    {
     "data": {
      "text/plain": [
       "<matplotlib.axes._subplots.AxesSubplot at 0x21584df0ef0>"
      ]
     },
     "execution_count": 199,
     "metadata": {},
     "output_type": "execute_result"
    },
    {
     "data": {
      "image/png": "[encoded data removed]",
      "text/plain": [
       "<Figure size 432x288 with 1 Axes>"
      ]
     },
     "metadata": {
      "needs_background": "light"
     },
     "output_type": "display_data"
    }
   ],
   "source": [
    "sns.regplot(data=games_data_reshaped, x='east_score', y='west_score')"
   ]
  },
  {
   "cell_type": "markdown",
   "metadata": {},
   "source": [
    "## Create regression function"
   ]
  },
  {
   "cell_type": "code",
   "execution_count": 200,
   "metadata": {},
   "outputs": [
    {
     "name": "stdout",
     "output_type": "stream",
     "text": [
      "                            OLS Regression Results                            \n",
      "==============================================================================\n",
      "Dep. Variable:             west_score   R-squared:                       0.233\n",
      "Model:                            OLS   Adj. R-squared:                  0.233\n",
      "Method:                 Least Squares   F-statistic:                     4679.\n",
      "Date:                Mon, 07 Oct 2019   Prob (F-statistic):               0.00\n",
      "Time:                        20:56:11   Log-Likelihood:                -59626.\n",
      "No. Observations:               15403   AIC:                         1.193e+05\n",
      "Df Residuals:                   15401   BIC:                         1.193e+05\n",
      "Df Model:                           1                                         \n",
      "Covariance Type:            nonrobust                                         \n",
      "==============================================================================\n",
      "                 coef    std err          t      P>|t|      [0.025      0.975]\n",
      "------------------------------------------------------------------------------\n",
      "const         53.4712      0.720     74.277      0.000      52.060      54.882\n",
      "east_score     0.4817      0.007     68.404      0.000       0.468       0.495\n",
      "==============================================================================\n",
      "Omnibus:                       27.377   Durbin-Watson:                   1.884\n",
      "Prob(Omnibus):                  0.000   Jarque-Bera (JB):               31.820\n",
      "Skew:                           0.043   Prob(JB):                     1.23e-07\n",
      "Kurtosis:                       3.206   Cond. No.                         787.\n",
      "==============================================================================\n",
      "\n",
      "Warnings:\n",
      "[1] Standard Errors assume that the covariance matrix of the errors is correctly specified.\n"
     ]
    }
   ],
   "source": [
    "X = games_data_reshaped['east_score']\n",
    "y = games_data_reshaped['west_score']\n",
    "X = sm.add_constant(X)\n",
    "mod = sm.OLS(y, X, hasconst= True)\n",
    "res = mod.fit()\n",
    "print(res.summary())"
   ]
  },
  {
   "cell_type": "markdown",
   "metadata": {},
   "source": [
    "# Stats Data"
   ]
  },
  {
   "cell_type": "markdown",
   "metadata": {},
   "source": [
    "## Creating function to get data"
   ]
  },
  {
   "cell_type": "code",
   "execution_count": 233,
   "metadata": {},
   "outputs": [],
   "source": [
    "def get_stats_data(page=1, per_page=100, total_pages=None):\n",
    "\n",
    "    # Get the last page from the meta data\n",
    "    url = 'https://www.balldontlie.io/api/v1/stats'\n",
    "    parameters = {'per_page': per_page, 'page': page}\n",
    "    \n",
    "    resp = requests.get(url, params=parameters).json()\n",
    "    total_pages = min(x for x in [resp['meta']['total_pages'], total_pages] if x is not None)\n",
    "    \n",
    "    start_time = time.time()\n",
    "    \n",
    "    # Initialize data frame\n",
    "    stats_data = pd.DataFrame()\n",
    "        \n",
    "    for page_num in range(page, total_pages+1):\n",
    "                \n",
    "        # Make request\n",
    "        parameters = {'page': page_num, 'per_page': per_page}\n",
    "        resp = requests.get(url, params=parameters).json()\n",
    "        \n",
    "        # Create dataframe from json data key\n",
    "        data = pd.DataFrame.from_records(resp['data'])    \n",
    "            \n",
    "        \n",
    "        # Creating columns out of the dictionary-type columns\n",
    "        for col in data.columns:\n",
    "            if type(data[col][0]) == dict:\n",
    "                for k in data[col][0].keys():\n",
    "                    data[col+\"_\"+k] = data[col].apply(lambda x: x[k])\n",
    "        \n",
    "       # Format date column to date column\n",
    "        data['game_date'] = pd.to_datetime(data['game_date'], yearfirst=True, errors='coerce').dt.tz_localize(None)\n",
    "        \n",
    "        # Column to display which page results came from\n",
    "        data['page'] = page_num\n",
    "        \n",
    "        # Concatenate our initial datafram with dataframe from each loop\n",
    "        stats_data = pd.concat([stats_data, data])\n",
    "        \n",
    "        # Delay between requests\n",
    "        time.sleep(0.8)\n",
    "    \n",
    "    end_time = time.time()\n",
    "    print(end_time - start_time)\n",
    "    \n",
    "    return stats_data"
   ]
  },
  {
   "cell_type": "code",
   "execution_count": 237,
   "metadata": {},
   "outputs": [
    {
     "name": "stdout",
     "output_type": "stream",
     "text": [
      "2.4514548778533936\n"
     ]
    }
   ],
   "source": [
    "stats_data = get_stats_data(total_pages=2)"
   ]
  },
  {
   "cell_type": "code",
   "execution_count": null,
   "metadata": {},
   "outputs": [],
   "source": [
    "#stats_data.to_csv('stats_data.csv')"
   ]
  }
 ],
 "metadata": {
  "kernelspec": {
   "display_name": "Python 3",
   "language": "python",
   "name": "python3"
  },
  "language_info": {
   "codemirror_mode": {
    "name": "ipython",
    "version": 3
   },
   "file_extension": ".py",
   "mimetype": "text/x-python",
   "name": "python",
   "nbconvert_exporter": "python",
   "pygments_lexer": "ipython3",
   "version": "3.7.3"
  }
 },
 "nbformat": 4,
 "nbformat_minor": 2
}

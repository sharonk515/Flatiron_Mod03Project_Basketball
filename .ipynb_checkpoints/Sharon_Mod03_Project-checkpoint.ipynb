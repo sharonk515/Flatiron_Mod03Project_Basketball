{
 "cells": [
  {
   "cell_type": "code",
   "execution_count": 1,
   "metadata": {},
   "outputs": [],
   "source": [
    "import requests\n",
    "import json\n",
    "import pandas as pd\n",
    "import numpy as np\n",
    "import math\n",
    "import itertools\n",
    "\n",
    "import seaborn as sns\n",
    "import matplotlib.pyplot as plt\n",
    "%matplotlib inline\n",
    "\n",
    "import statsmodels.api as sm\n",
    "import scipy.stats as stats\n",
    "import statsmodels.formula.api as smf\n",
    "\n",
    "import time\n",
    "\n",
    "import data_prep as dp\n",
    "import hypothesis_tests as tests\n",
    "import visualizations as v"
   ]
  },
  {
   "cell_type": "markdown",
   "metadata": {},
   "source": [
    "# Games Data"
   ]
  },
  {
   "cell_type": "markdown",
   "metadata": {},
   "source": [
    "## Creating function to request data "
   ]
  },
  {
   "cell_type": "code",
   "execution_count": null,
   "metadata": {},
   "outputs": [],
   "source": [
    "def get_games_data(page=1, per_page=100, total_pages=None):\n",
    "    \n",
    "    # Get number of pages\n",
    "    url = 'https://www.balldontlie.io/api/v1/games'\n",
    "    parameters = {'per_page': per_page, 'page': page, 'postseason': True}\n",
    "    \n",
    "    resp = requests.get(url, params=parameters).json()\n",
    "    total_pages = min(x for x in [resp['meta']['total_pages'], total_pages] if x is not None)\n",
    "    \n",
    "    # Initialize data frame\n",
    "    games_data = pd.DataFrame()\n",
    "        \n",
    "    for page_num in range(page, total_pages+1):\n",
    "                \n",
    "        # Make request\n",
    "        parameters = {'page': page_num, 'per_page': per_page, 'postseason': True}\n",
    "        \n",
    "        resp = requests.get(url, params=parameters).json()\n",
    "        \n",
    "        # Create dataframe from json data key\n",
    "        data = pd.DataFrame.from_records(resp['data'])    \n",
    "        \n",
    "        # Creating columns out of the dictionary-type columns\n",
    "        for col in data.columns:\n",
    "            if type(data[col][0]) == dict:\n",
    "                for k in data[col][0].keys():\n",
    "                    data[col+\"_\"+k] = data[col].apply(lambda x: x[k])\n",
    "        \n",
    "        # Concat data frames\n",
    "        games_data = pd.concat([games_data, data])\n",
    "        \n",
    "        # Delay next request\n",
    "        time.sleep(.8)\n",
    "        \n",
    "    return games_data"
   ]
  },
  {
   "cell_type": "code",
   "execution_count": null,
   "metadata": {},
   "outputs": [],
   "source": [
    "games_data = dp.get_data()"
   ]
  },
  {
   "cell_type": "code",
   "execution_count": null,
   "metadata": {},
   "outputs": [],
   "source": [
    "games_data.to_csv('games_data.csv', index=False)"
   ]
  },
  {
   "cell_type": "code",
   "execution_count": 2,
   "metadata": {},
   "outputs": [],
   "source": [
    "games_data = pd.read_csv('games_data.csv')"
   ]
  },
  {
   "cell_type": "code",
   "execution_count": null,
   "metadata": {
    "scrolled": true
   },
   "outputs": [],
   "source": [
    "games_data.head()"
   ]
  },
  {
   "cell_type": "markdown",
   "metadata": {},
   "source": [
    "# Hypothesis 1: West_Score = B0 + B1 East_Score"
   ]
  },
  {
   "cell_type": "markdown",
   "metadata": {},
   "source": [
    "## Creating function to shape dataframe"
   ]
  },
  {
   "cell_type": "markdown",
   "metadata": {},
   "source": [
    "id, East Score, West Score"
   ]
  },
  {
   "cell_type": "code",
   "execution_count": null,
   "metadata": {},
   "outputs": [],
   "source": [
    "def games_data_east_west(data):\n",
    "    \n",
    "    # Filter to only include games where East plays West team\n",
    "    data = data.loc[((data['home_team_conference']==\"East\")\n",
    "                     &(data['visitor_team_conference']==\"West\")) \n",
    "                    | ((data['home_team_conference']==\"West\")\n",
    "                       &(data['visitor_team_conference']==\"East\"))].copy()\n",
    "\n",
    "    # Creating East columns\n",
    "    data['east_team'] = np.where(data['home_team_conference']==\"East\",\n",
    "                                 data['home_team_full_name'],\n",
    "                                 data['visitor_team_full_name'])\n",
    "    data['east_score'] = np.where(data['home_team_conference']==\"East\",\n",
    "                                  data['home_team_score'], \n",
    "                                  data['visitor_team_score'])\n",
    "    \n",
    "    # Creating West columns\n",
    "    data['west_team'] = np.where(data['home_team_conference']==\"West\",\n",
    "                                 data['home_team_full_name'],\n",
    "                                 data['visitor_team_full_name'])\n",
    "    data['west_score'] = np.where(data['home_team_conference']==\"West\",\n",
    "                                  data['home_team_score'],\n",
    "                                  data['visitor_team_score'])\n",
    "    \n",
    "    # Creating Difference column\n",
    "    data['east_minus_west'] = (data['east_score']\n",
    "                               - data['west_score'])\n",
    "    \n",
    "    # Creating Winner column\n",
    "    data['division_winner'] = np.where(data['west_score']\n",
    "                                       > data['east_score'],\"West\",\"East\")\n",
    "    \n",
    "    # Calling only the columns we need\n",
    "    data = data[['id', 'season', 'east_team', 'east_score',\n",
    "                 'west_team', 'west_score', 'east_minus_west',\n",
    "                 'division_winner', 'postseason']]\n",
    "\n",
    "    return data"
   ]
  },
  {
   "cell_type": "code",
   "execution_count": 3,
   "metadata": {},
   "outputs": [],
   "source": [
    "east_west_games = dp.make_east_west_df(games_data)"
   ]
  },
  {
   "cell_type": "code",
   "execution_count": null,
   "metadata": {
    "scrolled": true
   },
   "outputs": [],
   "source": [
    "east_west_games"
   ]
  },
  {
   "cell_type": "code",
   "execution_count": null,
   "metadata": {},
   "outputs": [],
   "source": [
    "sns.distplot(east_west_games[\"east_score\"], hist = False, kde_kws = {'shade': True, 'linewidth': 3}, label = \"east\")\n",
    "sns.distplot(east_west_games[\"west_score\"], hist = False, kde_kws = {'shade': True, 'linewidth': 3}, label = \"west\");"
   ]
  },
  {
   "cell_type": "code",
   "execution_count": 4,
   "metadata": {},
   "outputs": [
    {
     "data": {
      "image/png": "[encoded data removed]",
      "text/plain": [
       "<Figure size 540x576 with 2 Axes>"
      ]
     },
     "metadata": {
      "needs_background": "light"
     },
     "output_type": "display_data"
    }
   ],
   "source": [
    "v.make_box_plot(east_west_games[[\"east_score\", \"west_score\"]],\n",
    "                east_west_games[[\"east_minus_west\"]],\n",
    "                \"distribution_of_points\")"
   ]
  },
  {
   "cell_type": "code",
   "execution_count": null,
   "metadata": {},
   "outputs": [],
   "source": [
    "boxplot = east_west_games.boxplot([\"east_score\", \"west_score\"],\n",
    "                                  patch_artist=True,\n",
    "                                  showmeans=True,\n",
    "                                  boxprops=dict(facecolor=\"blue\"),\n",
    "                                  meanprops=dict(marker=\"D\", markerfacecolor=\"red\"));\n",
    "# plt.boxplot(east_west_games[\"east_score\"], patch_artist=True, boxprops=dict(facecolor='blue'));"
   ]
  },
  {
   "cell_type": "code",
   "execution_count": null,
   "metadata": {},
   "outputs": [],
   "source": [
    "t_test = stats.ttest_rel(east_west_games[\"east_score\"], east_west_games[\"west_score\"])\n",
    "t_test"
   ]
  },
  {
   "cell_type": "code",
   "execution_count": 5,
   "metadata": {},
   "outputs": [
    {
     "name": "stdout",
     "output_type": "stream",
     "text": [
      "Given our null hypothesis (the difference in means is 0),\n",
      "the probability that our actual diference in means of 0.42\n",
      "is 0.5 standard deviations away is 0.62.\n",
      "Therefore we can NOT reject the null hypothesis.\n"
     ]
    }
   ],
   "source": [
    "tests.conduct_pairedttest(east_west_games, \"east_score\", \"west_score\")"
   ]
  },
  {
   "cell_type": "code",
   "execution_count": 14,
   "metadata": {},
   "outputs": [
    {
     "data": {
      "image/png": "[encoded data removed]",
      "text/plain": [
       "<Figure size 432x288 with 1 Axes>"
      ]
     },
     "metadata": {
      "needs_background": "light"
     },
     "output_type": "display_data"
    }
   ],
   "source": [
    "v.make_density_plot(east_west_games, \"east_score\", \"density_of_points\")"
   ]
  },
  {
   "cell_type": "code",
   "execution_count": 13,
   "metadata": {},
   "outputs": [
    {
     "data": {
      "image/png": "[encoded data removed]",
      "text/plain": [
       "<Figure size 432x288 with 1 Axes>"
      ]
     },
     "metadata": {
      "needs_background": "light"
     },
     "output_type": "display_data"
    }
   ],
   "source": [
    "v.make_density_plot(east_west_games, \"west_score\", \"density_of_points\")"
   ]
  },
  {
   "cell_type": "code",
   "execution_count": 12,
   "metadata": {
    "scrolled": true
   },
   "outputs": [
    {
     "data": {
      "image/png": "[encoded data removed]",
      "text/plain": [
       "<Figure size 432x288 with 1 Axes>"
      ]
     },
     "metadata": {
      "needs_background": "light"
     },
     "output_type": "display_data"
    }
   ],
   "source": [
    "v.make_density_plot(east_west_games, \"east_minus_west\", \"density_of_points\")"
   ]
  },
  {
   "cell_type": "code",
   "execution_count": null,
   "metadata": {},
   "outputs": [],
   "source": [
    "diff_mean = east_west_games[\"east_minus_west\"].mean()\n",
    "diff_sd = east_west_games[\"east_minus_west\"].std()\n",
    "t = round(t_test[0], 4)\n",
    "n = len(east_west_games[\"east_minus_west\"])\n",
    "lower = diff_mean - t*(diff_sd / n)\n",
    "upper = diff_mean + t*(diff_sd / n)\n",
    "lower, upper"
   ]
  },
  {
   "cell_type": "code",
   "execution_count": null,
   "metadata": {
    "scrolled": true
   },
   "outputs": [],
   "source": [
    "west_wins = pd.DataFrame(east_west_games.loc[east_west_games[\"division_winner\"]\n",
    "                                             == \"West\"].groupby(\"season\")[\"id\"].count())\n",
    "east_wins = pd.DataFrame(east_west_games.loc[east_west_games[\"division_winner\"]\n",
    "                                             == \"East\"].groupby(\"season\")[\"id\"].count())\n",
    "division_wins = pd.merge(west_wins, east_wins, on=\"season\", suffixes=('_west', '_east'))\n",
    "division_wins.columns = [\"west_wins\", \"east_wins\"]\n",
    "division_wins.head()"
   ]
  },
  {
   "cell_type": "code",
   "execution_count": null,
   "metadata": {
    "scrolled": true
   },
   "outputs": [],
   "source": [
    "sns.distplot(east_west_games['east_minus_west']);"
   ]
  },
  {
   "cell_type": "code",
   "execution_count": null,
   "metadata": {},
   "outputs": [],
   "source": [
    "sns.scatterplot(data=east_west_games,\n",
    "                x='east_score',\n",
    "                y='west_score');"
   ]
  },
  {
   "cell_type": "code",
   "execution_count": null,
   "metadata": {},
   "outputs": [],
   "source": [
    "sns.regplot(data=east_west_games,\n",
    "            x='east_score',\n",
    "            y='west_score');"
   ]
  },
  {
   "cell_type": "markdown",
   "metadata": {},
   "source": [
    "## Create regression function"
   ]
  },
  {
   "cell_type": "code",
   "execution_count": null,
   "metadata": {
    "scrolled": true
   },
   "outputs": [],
   "source": [
    "X = east_west_games['east_score']\n",
    "y = east_west_games['west_score']\n",
    "X = sm.add_constant(X)\n",
    "mod = sm.OLS(y, X, hasconst= True)\n",
    "res = mod.fit()\n",
    "res.summary()"
   ]
  },
  {
   "cell_type": "markdown",
   "metadata": {},
   "source": [
    "# Hypothesis 2: No Team has Better Home Court Advantage"
   ]
  },
  {
   "cell_type": "code",
   "execution_count": null,
   "metadata": {},
   "outputs": [],
   "source": [
    "def home_games_data(data):\n",
    "    \n",
    "    data['home_win'] = (data['home_team_score']\n",
    "                        > data['visitor_team_score'])*1\n",
    "    \n",
    "    data['home_score_diff'] = (data['home_team_score']\n",
    "                               - data['visitor_team_score'])\n",
    "    \n",
    "    data = data[['id', 'home_team_full_name', 'home_team_score',\n",
    "                 'home_score_diff', 'home_win', 'home_team_conference']]\n",
    "\n",
    "    return data"
   ]
  },
  {
   "cell_type": "code",
   "execution_count": null,
   "metadata": {},
   "outputs": [],
   "source": [
    "def conduct_anova(home_df):\n",
    "    ftest = stats.f_oneway(*(home_df[home_df['home_team_full_name'] == team]['home_score_diff'] for team in home_df['home_team_full_name'].unique()))\n",
    "    print(\"F: \", round(ftest.statistic, 2))\n",
    "    print(\"p-value: \", round(ftest.pvalue, 6))\n",
    "    if ftest.pvalue < 0.05:\n",
    "        print(\"At least 1 team's home court advantage is statistically significant \\n\")\n",
    "       # Create an empty dictionary that will store results\n",
    "        ttest_dict = {}\n",
    "       # Creating all possible combinations of teams and iterating through\n",
    "        for pair in list(itertools.combinations(home_df['home_team_full_name'].unique(),2)):\n",
    "           # Designating 1st list of values for ttest\n",
    "            first_team_vals = home_df[home_df['home_team_full_name'] == pair[0]]['home_score_diff']\n",
    "           # Designating 2nd list of values for ttest\n",
    "            second_team_vals = home_df[home_df['home_team_full_name'] == pair[1]]['home_score_diff']\n",
    "           # Perform ttest\n",
    "            ttest = stats.ttest_ind(first_team_vals, second_team_vals)\n",
    "           #Create key-values for initial dictionary\n",
    "           # Only include 'significant' results\n",
    "            if ttest.pvalue < 0.05:\n",
    "                ttest_dict[pair] = [round(ttest.statistic, 2), round(ttest.pvalue, 6)]\n",
    "                print(f\"{pair[0]}'s home court advantage is statistically significantly{' better'*(ttest.statistic>0)}{' worse'*(ttest.statistic<0)} than {pair[1]}'s (t-stat: {round(ttest.statistic, 2)}, p-value: {round(ttest.pvalue, 4)})\")\n",
    "    else:\n",
    "        print(\"No team's home court advantage is statistically significant\")"
   ]
  },
  {
   "cell_type": "code",
   "execution_count": 7,
   "metadata": {},
   "outputs": [
    {
     "name": "stdout",
     "output_type": "stream",
     "text": [
      "F:  2.15\n",
      "p-value:  0.045544\n",
      "At least 1 team's home court advantage is statistically significant \n",
      "\n",
      "Phoenix Suns's home court advantage is statistically significantly\n",
      " worse than\n",
      "Los Angeles Lakers's (t-stat: -2.1, p-value: 0.0367)\n",
      "Los Angeles Lakers's home court advantage is statistically significantly\n",
      " better than\n",
      "Houston Rockets's (t-stat: 2.62, p-value: 0.0093)\n",
      "San Antonio Spurs's home court advantage is statistically significantly\n",
      " better than\n",
      "Houston Rockets's (t-stat: 2.4, p-value: 0.0171)\n",
      "Houston Rockets's home court advantage is statistically significantly\n",
      " worse than\n",
      "Golden State Warriors's (t-stat: -2.05, p-value: 0.0411)\n"
     ]
    }
   ],
   "source": [
    "west_home_game_data = dp.make_home_df(games_data, \"West\", 7)\n",
    "tests.conduct_anova(west_home_game_data)"
   ]
  },
  {
   "cell_type": "code",
   "execution_count": 8,
   "metadata": {},
   "outputs": [
    {
     "name": "stdout",
     "output_type": "stream",
     "text": [
      "F:  0.46\n",
      "p-value:  0.837973\n",
      "No team's home court advantage is statistically significant\n"
     ]
    }
   ],
   "source": [
    "east_home_game_data = dp.make_home_df(games_data, \"East\", 7)\n",
    "tests.conduct_anova(east_home_game_data)"
   ]
  },
  {
   "cell_type": "code",
   "execution_count": null,
   "metadata": {
    "scrolled": false
   },
   "outputs": [],
   "source": [
    "east_home = home_games_data.loc[home_games_data[\"home_team_conference\"] \n",
    "                                == \"East\"]\n",
    "east_home"
   ]
  },
  {
   "cell_type": "code",
   "execution_count": null,
   "metadata": {
    "scrolled": true
   },
   "outputs": [],
   "source": [
    "teams = east_home[\"home_team_full_name\"].unique()\n",
    "east_games = pd.DataFrame(teams, columns=[\"team\"])\n",
    "east_games[\"score_diff_mean\"] = east_home.groupby(\"home_team_full_name\") \\\n",
    "                                [\"home_score_diff\"].mean().values\n",
    "east_games = east_games.sort_values(by=[\"score_diff_mean\"],\n",
    "                                    ascending=False)\n",
    "east_games['team_names'] = east_games[\"team\"].apply(lambda x:\n",
    "                                                    x.lower().replace(\" \", \"_\"))\n",
    "east_games"
   ]
  },
  {
   "cell_type": "code",
   "execution_count": null,
   "metadata": {},
   "outputs": [],
   "source": [
    "east_teams = list(east_games.iloc[:, :5].columns)\n",
    "east_teams"
   ]
  },
  {
   "cell_type": "code",
   "execution_count": null,
   "metadata": {
    "scrolled": true
   },
   "outputs": [],
   "source": [
    "west_home = home_games_data.loc[home_games_data[\"home_team_conference\"]\n",
    "                                == \"West\"]\n",
    "west_home"
   ]
  },
  {
   "cell_type": "code",
   "execution_count": null,
   "metadata": {
    "scrolled": true
   },
   "outputs": [],
   "source": [
    "west_home.loc[west_home[\"home_team_full_name\"]==\"Utah Jazz\"][\"home_score_diff\"]"
   ]
  },
  {
   "cell_type": "code",
   "execution_count": null,
   "metadata": {
    "scrolled": true
   },
   "outputs": [],
   "source": [
    "teams = west_home[\"home_team_full_name\"].unique()\n",
    "west_games = pd.DataFrame(teams, columns=[\"team\"])\n",
    "west_games[\"score_diff_mean\"] = west_home.groupby(\"home_team_full_name\") \\\n",
    "                                [\"home_score_diff\"].mean().values\n",
    "west_games = west_games.sort_values(by=[\"score_diff_mean\"],\n",
    "                                    ascending=False)\n",
    "west_games['team_names'] = west_games[\"team\"].apply(lambda x:\n",
    "                                                    x.lower().replace(\" \", \"_\"))\n",
    "west_games"
   ]
  },
  {
   "cell_type": "code",
   "execution_count": null,
   "metadata": {
    "scrolled": true
   },
   "outputs": [],
   "source": [
    "west_teams = list(west_games.iloc[:, :5].columns)\n",
    "west_teams"
   ]
  },
  {
   "cell_type": "code",
   "execution_count": null,
   "metadata": {},
   "outputs": [],
   "source": [
    "east = list(itertools.combinations(east_teams, 2))\n",
    "east"
   ]
  },
  {
   "cell_type": "code",
   "execution_count": null,
   "metadata": {},
   "outputs": [],
   "source": [
    "west = list(itertools.combinations(west_teams, 2))\n",
    "west"
   ]
  }
 ],
 "metadata": {
  "kernelspec": {
   "display_name": "Python 3",
   "language": "python",
   "name": "python3"
  },
  "language_info": {
   "codemirror_mode": {
    "name": "ipython",
    "version": 3
   },
   "file_extension": ".py",
   "mimetype": "text/x-python",
   "name": "python",
   "nbconvert_exporter": "python",
   "pygments_lexer": "ipython3",
   "version": "3.7.3"
  }
 },
 "nbformat": 4,
 "nbformat_minor": 2
}
